{
 "cells": [
  {
   "cell_type": "code",
   "execution_count": null,
   "metadata": {},
   "outputs": [],
   "source": [
    "import pandas as pd\n",
    "import os\n",
    "import sys\n",
    "import boto3\n",
    "import matplotlib.pyplot as plt\n",
    "from dotenv import load_dotenv\n",
    "\n",
    "parent_dir = os.path.abspath(os.path.join(os.getcwd(), os.pardir))\n",
    "sys.path.append(parent_dir)\n",
    "\n",
    "load_dotenv()\n",
    "\n",
    "from utils.helper_methods import (\n",
    "    redshift_read_table,\n",
    "    read_s3_data,\n",
    "    get_redshift_endpoint,\n",
    ")\n",
    "\n",
    "redshift_master_user = os.environ.get(\"REDSHIFT_MASTER_USER\")\n",
    "redshift_master_password = os.environ.get(\"REDSHIFT_MASTER_P\")\n",
    "redshift_db_name = os.environ.get(\"REDSHIFT_DB_NAME\")\n",
    "redshift_cluster_name = os.environ.get(\"REDSHIFT_CLUSTER_NAME\")\n",
    "redshift_table_name = os.environ.get(\"REDSHIFT_TABLE_NAME\")\n",
    "\n",
    "bucket_name = os.environ.get(\"S3_BUCKET_NAME\")\n",
    "\n",
    "cluster_address, cluster_port = get_redshift_endpoint(redshift_cluster_name)\n",
    "\n",
    "connection_string = f\"dbname={redshift_db_name} user={redshift_master_user} password={redshift_master_password} host={cluster_address} port={cluster_port}\""
   ]
  },
  {
   "cell_type": "markdown",
   "metadata": {},
   "source": [
    "# Verify raw intermediate data in S3 bucket\n"
   ]
  },
  {
   "cell_type": "code",
   "execution_count": null,
   "metadata": {},
   "outputs": [],
   "source": [
    "s3_client = boto3.client(\"s3\")\n",
    "bucket_data = read_s3_data(\n",
    "    s3_client,\n",
    "    \"firehose-raw-data\",\n",
    ")\n",
    "\n",
    "print(len(bucket_data))\n",
    "bucket_data"
   ]
  },
  {
   "cell_type": "code",
   "execution_count": null,
   "metadata": {},
   "outputs": [],
   "source": [
    "bucket_data.values()"
   ]
  },
  {
   "cell_type": "markdown",
   "metadata": {},
   "source": [
    "---\n"
   ]
  },
  {
   "cell_type": "markdown",
   "metadata": {},
   "source": [
    "## Connect to and read from Redshift Database\n"
   ]
  },
  {
   "cell_type": "code",
   "execution_count": null,
   "metadata": {},
   "outputs": [],
   "source": [
    "table_name = \"user_health_data\"\n",
    "\n",
    "\n",
    "sql_query = f\"SELECT * FROM {table_name}\"\n",
    "\n",
    "df_user_health_data = redshift_read_table(connection_string, sql_query)\n",
    "print(len(df_user_health_data))\n",
    "\n",
    "df_user_health_data"
   ]
  },
  {
   "cell_type": "code",
   "execution_count": null,
   "metadata": {},
   "outputs": [],
   "source": [
    "fig, ax = plt.subplots(figsize=(10, 6))\n",
    "for key, grp in df_user_health_data.groupby([\"name\"]):\n",
    "    ax.plot(grp[\"age\"], grp[\"novel_stress_marker\"], marker=\"o\", linestyle=\"\", label=key)\n",
    "\n",
    "ax.set_xlabel(\"Age\")\n",
    "ax.set_ylabel(\"Novel Stress Marker\")\n",
    "plt.title(\"Novel Stress Marker by Age and User\")\n",
    "plt.legend()\n",
    "plt.show()"
   ]
  }
 ],
 "metadata": {
  "kernelspec": {
   "display_name": ".venv",
   "language": "python",
   "name": "python3"
  },
  "language_info": {
   "codemirror_mode": {
    "name": "ipython",
    "version": 3
   },
   "file_extension": ".py",
   "mimetype": "text/x-python",
   "name": "python",
   "nbconvert_exporter": "python",
   "pygments_lexer": "ipython3",
   "version": "3.11.8"
  }
 },
 "nbformat": 4,
 "nbformat_minor": 2
}
